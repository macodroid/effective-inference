{
 "cells": [
  {
   "cell_type": "code",
   "execution_count": 3,
   "metadata": {
    "collapsed": true
   },
   "outputs": [],
   "source": [
    "import pandas as pd\n",
    "from transformers import RobertaTokenizer"
   ]
  },
  {
   "cell_type": "code",
   "execution_count": 6,
   "outputs": [],
   "source": [
    "data = pd.read_csv('data/ProblemSolutionPythonV3.csv')"
   ],
   "metadata": {
    "collapsed": false
   }
  },
  {
   "cell_type": "code",
   "execution_count": 7,
   "outputs": [
    {
     "data": {
      "text/plain": "      Unnamed: 0                                            Problem  \\\n0              0  Write a NumPy program to repeat elements of an...   \n1              1  Write a Python function to create and print a ...   \n2              2  Write a Python program to remove duplicates fr...   \n3              3  Write a NumPy program to compute the x and y c...   \n4              4  Write a Python program to alter a given SQLite...   \n...          ...                                                ...   \n3302        3302  Python Program to Check Whether a Number is Po...   \n3303        3303  \\nThe Fibonacci Sequence is computed based on ...   \n3304        3304    \\n\\n\\nPlease raise a RuntimeError exception.\\n:   \n3305        3305  Program to print inverted right triangle alpha...   \n3306        3306  Program to find the sum of series 1+X+X^2/2......   \n\n                                            Python Code  \n0     import numpy as np\\rx = np.repeat(3, 4)\\rprint...  \n1     def printValues():\\n\\tl = list()\\n\\tfor i in r...  \n2     import itertools\\rnum = [[10, 20], [40], [30, ...  \n3     import numpy as np\\rimport matplotlib.pyplot a...  \n4     import sqlite3\\rfrom sqlite3 import Error\\rdef...  \n...                                                 ...  \n3302   \\nn=int(input(\"Enter number: \"))\\nif(n>0):\\n ...  \n3303  \\ndef f(n):\\n    if n == 0: return 0\\n    elif...  \n3304    \\nraise RuntimeError('something wrong')\\n\\n\\n\\n  \n3305  \\nprint(\"Enter the row and column size:\");\\nro...  \n3306  \\nprint(\"Enter the range of number:\")\\nn=int(i...  \n\n[3307 rows x 3 columns]",
      "text/html": "<div>\n<style scoped>\n    .dataframe tbody tr th:only-of-type {\n        vertical-align: middle;\n    }\n\n    .dataframe tbody tr th {\n        vertical-align: top;\n    }\n\n    .dataframe thead th {\n        text-align: right;\n    }\n</style>\n<table border=\"1\" class=\"dataframe\">\n  <thead>\n    <tr style=\"text-align: right;\">\n      <th></th>\n      <th>Unnamed: 0</th>\n      <th>Problem</th>\n      <th>Python Code</th>\n    </tr>\n  </thead>\n  <tbody>\n    <tr>\n      <th>0</th>\n      <td>0</td>\n      <td>Write a NumPy program to repeat elements of an...</td>\n      <td>import numpy as np\\rx = np.repeat(3, 4)\\rprint...</td>\n    </tr>\n    <tr>\n      <th>1</th>\n      <td>1</td>\n      <td>Write a Python function to create and print a ...</td>\n      <td>def printValues():\\n\\tl = list()\\n\\tfor i in r...</td>\n    </tr>\n    <tr>\n      <th>2</th>\n      <td>2</td>\n      <td>Write a Python program to remove duplicates fr...</td>\n      <td>import itertools\\rnum = [[10, 20], [40], [30, ...</td>\n    </tr>\n    <tr>\n      <th>3</th>\n      <td>3</td>\n      <td>Write a NumPy program to compute the x and y c...</td>\n      <td>import numpy as np\\rimport matplotlib.pyplot a...</td>\n    </tr>\n    <tr>\n      <th>4</th>\n      <td>4</td>\n      <td>Write a Python program to alter a given SQLite...</td>\n      <td>import sqlite3\\rfrom sqlite3 import Error\\rdef...</td>\n    </tr>\n    <tr>\n      <th>...</th>\n      <td>...</td>\n      <td>...</td>\n      <td>...</td>\n    </tr>\n    <tr>\n      <th>3302</th>\n      <td>3302</td>\n      <td>Python Program to Check Whether a Number is Po...</td>\n      <td>\\nn=int(input(\"Enter number: \"))\\nif(n&gt;0):\\n ...</td>\n    </tr>\n    <tr>\n      <th>3303</th>\n      <td>3303</td>\n      <td>\\nThe Fibonacci Sequence is computed based on ...</td>\n      <td>\\ndef f(n):\\n    if n == 0: return 0\\n    elif...</td>\n    </tr>\n    <tr>\n      <th>3304</th>\n      <td>3304</td>\n      <td>\\n\\n\\nPlease raise a RuntimeError exception.\\n:</td>\n      <td>\\nraise RuntimeError('something wrong')\\n\\n\\n\\n</td>\n    </tr>\n    <tr>\n      <th>3305</th>\n      <td>3305</td>\n      <td>Program to print inverted right triangle alpha...</td>\n      <td>\\nprint(\"Enter the row and column size:\");\\nro...</td>\n    </tr>\n    <tr>\n      <th>3306</th>\n      <td>3306</td>\n      <td>Program to find the sum of series 1+X+X^2/2......</td>\n      <td>\\nprint(\"Enter the range of number:\")\\nn=int(i...</td>\n    </tr>\n  </tbody>\n</table>\n<p>3307 rows × 3 columns</p>\n</div>"
     },
     "execution_count": 7,
     "metadata": {},
     "output_type": "execute_result"
    }
   ],
   "source": [
    "data"
   ],
   "metadata": {
    "collapsed": false
   }
  },
  {
   "cell_type": "code",
   "execution_count": 8,
   "outputs": [],
   "source": [
    "data = data.iloc[:, 1:]"
   ],
   "metadata": {
    "collapsed": false
   }
  },
  {
   "cell_type": "code",
   "execution_count": 9,
   "outputs": [
    {
     "data": {
      "text/plain": "                                                Problem  \\\n0     Write a NumPy program to repeat elements of an...   \n1     Write a Python function to create and print a ...   \n2     Write a Python program to remove duplicates fr...   \n3     Write a NumPy program to compute the x and y c...   \n4     Write a Python program to alter a given SQLite...   \n...                                                 ...   \n3302  Python Program to Check Whether a Number is Po...   \n3303  \\nThe Fibonacci Sequence is computed based on ...   \n3304    \\n\\n\\nPlease raise a RuntimeError exception.\\n:   \n3305  Program to print inverted right triangle alpha...   \n3306  Program to find the sum of series 1+X+X^2/2......   \n\n                                            Python Code  \n0     import numpy as np\\rx = np.repeat(3, 4)\\rprint...  \n1     def printValues():\\n\\tl = list()\\n\\tfor i in r...  \n2     import itertools\\rnum = [[10, 20], [40], [30, ...  \n3     import numpy as np\\rimport matplotlib.pyplot a...  \n4     import sqlite3\\rfrom sqlite3 import Error\\rdef...  \n...                                                 ...  \n3302   \\nn=int(input(\"Enter number: \"))\\nif(n>0):\\n ...  \n3303  \\ndef f(n):\\n    if n == 0: return 0\\n    elif...  \n3304    \\nraise RuntimeError('something wrong')\\n\\n\\n\\n  \n3305  \\nprint(\"Enter the row and column size:\");\\nro...  \n3306  \\nprint(\"Enter the range of number:\")\\nn=int(i...  \n\n[3307 rows x 2 columns]",
      "text/html": "<div>\n<style scoped>\n    .dataframe tbody tr th:only-of-type {\n        vertical-align: middle;\n    }\n\n    .dataframe tbody tr th {\n        vertical-align: top;\n    }\n\n    .dataframe thead th {\n        text-align: right;\n    }\n</style>\n<table border=\"1\" class=\"dataframe\">\n  <thead>\n    <tr style=\"text-align: right;\">\n      <th></th>\n      <th>Problem</th>\n      <th>Python Code</th>\n    </tr>\n  </thead>\n  <tbody>\n    <tr>\n      <th>0</th>\n      <td>Write a NumPy program to repeat elements of an...</td>\n      <td>import numpy as np\\rx = np.repeat(3, 4)\\rprint...</td>\n    </tr>\n    <tr>\n      <th>1</th>\n      <td>Write a Python function to create and print a ...</td>\n      <td>def printValues():\\n\\tl = list()\\n\\tfor i in r...</td>\n    </tr>\n    <tr>\n      <th>2</th>\n      <td>Write a Python program to remove duplicates fr...</td>\n      <td>import itertools\\rnum = [[10, 20], [40], [30, ...</td>\n    </tr>\n    <tr>\n      <th>3</th>\n      <td>Write a NumPy program to compute the x and y c...</td>\n      <td>import numpy as np\\rimport matplotlib.pyplot a...</td>\n    </tr>\n    <tr>\n      <th>4</th>\n      <td>Write a Python program to alter a given SQLite...</td>\n      <td>import sqlite3\\rfrom sqlite3 import Error\\rdef...</td>\n    </tr>\n    <tr>\n      <th>...</th>\n      <td>...</td>\n      <td>...</td>\n    </tr>\n    <tr>\n      <th>3302</th>\n      <td>Python Program to Check Whether a Number is Po...</td>\n      <td>\\nn=int(input(\"Enter number: \"))\\nif(n&gt;0):\\n ...</td>\n    </tr>\n    <tr>\n      <th>3303</th>\n      <td>\\nThe Fibonacci Sequence is computed based on ...</td>\n      <td>\\ndef f(n):\\n    if n == 0: return 0\\n    elif...</td>\n    </tr>\n    <tr>\n      <th>3304</th>\n      <td>\\n\\n\\nPlease raise a RuntimeError exception.\\n:</td>\n      <td>\\nraise RuntimeError('something wrong')\\n\\n\\n\\n</td>\n    </tr>\n    <tr>\n      <th>3305</th>\n      <td>Program to print inverted right triangle alpha...</td>\n      <td>\\nprint(\"Enter the row and column size:\");\\nro...</td>\n    </tr>\n    <tr>\n      <th>3306</th>\n      <td>Program to find the sum of series 1+X+X^2/2......</td>\n      <td>\\nprint(\"Enter the range of number:\")\\nn=int(i...</td>\n    </tr>\n  </tbody>\n</table>\n<p>3307 rows × 2 columns</p>\n</div>"
     },
     "execution_count": 9,
     "metadata": {},
     "output_type": "execute_result"
    }
   ],
   "source": [
    "data"
   ],
   "metadata": {
    "collapsed": false
   }
  },
  {
   "cell_type": "code",
   "execution_count": 13,
   "outputs": [
    {
     "data": {
      "text/plain": "Problem                  Program to convert Octal To Hexadecimal\nPython Code    \\ni=0\\noctal=int(input(\"Enter Octal number:\"))...\nName: 2563, dtype: object"
     },
     "execution_count": 13,
     "metadata": {},
     "output_type": "execute_result"
    }
   ],
   "source": [
    "data.iloc[2563, :]"
   ],
   "metadata": {
    "collapsed": false
   }
  },
  {
   "cell_type": "code",
   "execution_count": 15,
   "outputs": [],
   "source": [
    "train_data = pd.read_csv('data/ProblemSolutionPythonV3_TRAIN.csv').iloc[:, 1:]\n",
    "test_data = pd.read_csv('data/ProblemSolutionPythonV3_TEST.csv').iloc[:, 1:]"
   ],
   "metadata": {
    "collapsed": false
   }
  },
  {
   "cell_type": "code",
   "execution_count": 17,
   "outputs": [
    {
     "data": {
      "text/plain": "                                               Problem  \\\n0    Program to print the right triangle Alphabet p...   \n1    Python Program to Find the GCD of Two Numbers ...   \n2    Python Program to Find Transitive Closure of a...   \n3            Program to find addition of two matrices    \n4       Remove all uppercase characters in the String    \n..                                                 ...   \n500  Python Program to Check Whether a Number is Po...   \n501  \\nThe Fibonacci Sequence is computed based on ...   \n502    \\n\\n\\nPlease raise a RuntimeError exception.\\n:   \n503  Program to print inverted right triangle alpha...   \n504  Program to find the sum of series 1+X+X^2/2......   \n\n                                           Python Code  \n0    \\nprint(\"Enter the row and column size:\");\\nro...  \n1    def gcd(a,b):\\n    if(b==0):\\n        return a...  \n2    class Graph:\\n    def __init__(self):\\n       ...  \n3    # Get size of matrix\\nrow_size=int(input(\"Ente...  \n4    \\nstr=input(\"Enter the String:\")\\nstr2 = []\\ni...  \n..                                                 ...  \n500  Â \\nn=int(input(\"Enter number: \"))\\nif(n>0):\\n...  \n501  \\ndef f(n):\\n    if n == 0: return 0\\n    elif...  \n502    \\nraise RuntimeError('something wrong')\\n\\n\\n\\n  \n503  \\nprint(\"Enter the row and column size:\");\\nro...  \n504  \\nprint(\"Enter the range of number:\")\\nn=int(i...  \n\n[505 rows x 2 columns]",
      "text/html": "<div>\n<style scoped>\n    .dataframe tbody tr th:only-of-type {\n        vertical-align: middle;\n    }\n\n    .dataframe tbody tr th {\n        vertical-align: top;\n    }\n\n    .dataframe thead th {\n        text-align: right;\n    }\n</style>\n<table border=\"1\" class=\"dataframe\">\n  <thead>\n    <tr style=\"text-align: right;\">\n      <th></th>\n      <th>Problem</th>\n      <th>Python Code</th>\n    </tr>\n  </thead>\n  <tbody>\n    <tr>\n      <th>0</th>\n      <td>Program to print the right triangle Alphabet p...</td>\n      <td>\\nprint(\"Enter the row and column size:\");\\nro...</td>\n    </tr>\n    <tr>\n      <th>1</th>\n      <td>Python Program to Find the GCD of Two Numbers ...</td>\n      <td>def gcd(a,b):\\n    if(b==0):\\n        return a...</td>\n    </tr>\n    <tr>\n      <th>2</th>\n      <td>Python Program to Find Transitive Closure of a...</td>\n      <td>class Graph:\\n    def __init__(self):\\n       ...</td>\n    </tr>\n    <tr>\n      <th>3</th>\n      <td>Program to find addition of two matrices</td>\n      <td># Get size of matrix\\nrow_size=int(input(\"Ente...</td>\n    </tr>\n    <tr>\n      <th>4</th>\n      <td>Remove all uppercase characters in the String</td>\n      <td>\\nstr=input(\"Enter the String:\")\\nstr2 = []\\ni...</td>\n    </tr>\n    <tr>\n      <th>...</th>\n      <td>...</td>\n      <td>...</td>\n    </tr>\n    <tr>\n      <th>500</th>\n      <td>Python Program to Check Whether a Number is Po...</td>\n      <td>Â \\nn=int(input(\"Enter number: \"))\\nif(n&gt;0):\\n...</td>\n    </tr>\n    <tr>\n      <th>501</th>\n      <td>\\nThe Fibonacci Sequence is computed based on ...</td>\n      <td>\\ndef f(n):\\n    if n == 0: return 0\\n    elif...</td>\n    </tr>\n    <tr>\n      <th>502</th>\n      <td>\\n\\n\\nPlease raise a RuntimeError exception.\\n:</td>\n      <td>\\nraise RuntimeError('something wrong')\\n\\n\\n\\n</td>\n    </tr>\n    <tr>\n      <th>503</th>\n      <td>Program to print inverted right triangle alpha...</td>\n      <td>\\nprint(\"Enter the row and column size:\");\\nro...</td>\n    </tr>\n    <tr>\n      <th>504</th>\n      <td>Program to find the sum of series 1+X+X^2/2......</td>\n      <td>\\nprint(\"Enter the range of number:\")\\nn=int(i...</td>\n    </tr>\n  </tbody>\n</table>\n<p>505 rows × 2 columns</p>\n</div>"
     },
     "execution_count": 17,
     "metadata": {},
     "output_type": "execute_result"
    }
   ],
   "source": [
    "test_data"
   ],
   "metadata": {
    "collapsed": false
   }
  },
  {
   "cell_type": "code",
   "execution_count": null,
   "outputs": [],
   "source": [],
   "metadata": {
    "collapsed": false
   }
  }
 ],
 "metadata": {
  "kernelspec": {
   "display_name": "Python 3",
   "language": "python",
   "name": "python3"
  },
  "language_info": {
   "codemirror_mode": {
    "name": "ipython",
    "version": 2
   },
   "file_extension": ".py",
   "mimetype": "text/x-python",
   "name": "python",
   "nbconvert_exporter": "python",
   "pygments_lexer": "ipython2",
   "version": "2.7.6"
  }
 },
 "nbformat": 4,
 "nbformat_minor": 0
}
